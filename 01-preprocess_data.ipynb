{
 "cells": [
  {
   "cell_type": "code",
   "execution_count": 1,
   "id": "ceramic-burning",
   "metadata": {},
   "outputs": [],
   "source": [
    "from pathlib import Path\n",
    "import pandas as pd\n",
    "import numpy as np\n",
    "import matplotlib.pyplot as plt"
   ]
  },
  {
   "cell_type": "code",
   "execution_count": 2,
   "id": "formal-tracker",
   "metadata": {},
   "outputs": [
    {
     "data": {
      "text/html": [
       "<div>\n",
       "<style scoped>\n",
       "    .dataframe tbody tr th:only-of-type {\n",
       "        vertical-align: middle;\n",
       "    }\n",
       "\n",
       "    .dataframe tbody tr th {\n",
       "        vertical-align: top;\n",
       "    }\n",
       "\n",
       "    .dataframe thead th {\n",
       "        text-align: right;\n",
       "    }\n",
       "</style>\n",
       "<table border=\"1\" class=\"dataframe\">\n",
       "  <thead>\n",
       "    <tr style=\"text-align: right;\">\n",
       "      <th></th>\n",
       "      <th>city</th>\n",
       "      <th>floor</th>\n",
       "      <th>id</th>\n",
       "      <th>osm_amenity_points_in_0.001</th>\n",
       "      <th>osm_amenity_points_in_0.005</th>\n",
       "      <th>osm_amenity_points_in_0.0075</th>\n",
       "      <th>osm_amenity_points_in_0.01</th>\n",
       "      <th>osm_building_points_in_0.001</th>\n",
       "      <th>osm_building_points_in_0.005</th>\n",
       "      <th>osm_building_points_in_0.0075</th>\n",
       "      <th>...</th>\n",
       "      <th>reform_mean_year_building_1000</th>\n",
       "      <th>reform_mean_year_building_500</th>\n",
       "      <th>region</th>\n",
       "      <th>lat</th>\n",
       "      <th>lng</th>\n",
       "      <th>total_square</th>\n",
       "      <th>street</th>\n",
       "      <th>date</th>\n",
       "      <th>realty_type</th>\n",
       "      <th>price_type</th>\n",
       "    </tr>\n",
       "  </thead>\n",
       "  <tbody>\n",
       "    <tr>\n",
       "      <th>0</th>\n",
       "      <td>Курск</td>\n",
       "      <td>1.0</td>\n",
       "      <td>COL_289284</td>\n",
       "      <td>7</td>\n",
       "      <td>55</td>\n",
       "      <td>85</td>\n",
       "      <td>117</td>\n",
       "      <td>0</td>\n",
       "      <td>0</td>\n",
       "      <td>0</td>\n",
       "      <td>...</td>\n",
       "      <td>1966.471591</td>\n",
       "      <td>1966.740260</td>\n",
       "      <td>Курская область</td>\n",
       "      <td>51.709255</td>\n",
       "      <td>36.147908</td>\n",
       "      <td>156.148996</td>\n",
       "      <td>S6983</td>\n",
       "      <td>2020-09-06</td>\n",
       "      <td>100</td>\n",
       "      <td>1</td>\n",
       "    </tr>\n",
       "    <tr>\n",
       "      <th>1</th>\n",
       "      <td>Сургут</td>\n",
       "      <td>1.0</td>\n",
       "      <td>COL_289305</td>\n",
       "      <td>8</td>\n",
       "      <td>70</td>\n",
       "      <td>112</td>\n",
       "      <td>140</td>\n",
       "      <td>0</td>\n",
       "      <td>0</td>\n",
       "      <td>0</td>\n",
       "      <td>...</td>\n",
       "      <td>1988.259259</td>\n",
       "      <td>1989.068182</td>\n",
       "      <td>Ханты-Мансийский АО</td>\n",
       "      <td>61.233240</td>\n",
       "      <td>73.462509</td>\n",
       "      <td>190.737943</td>\n",
       "      <td>S29120</td>\n",
       "      <td>2020-09-06</td>\n",
       "      <td>110</td>\n",
       "      <td>1</td>\n",
       "    </tr>\n",
       "    <tr>\n",
       "      <th>2</th>\n",
       "      <td>Тюмень</td>\n",
       "      <td>-1.0</td>\n",
       "      <td>COL_289318</td>\n",
       "      <td>3</td>\n",
       "      <td>28</td>\n",
       "      <td>67</td>\n",
       "      <td>122</td>\n",
       "      <td>0</td>\n",
       "      <td>0</td>\n",
       "      <td>0</td>\n",
       "      <td>...</td>\n",
       "      <td>1985.880282</td>\n",
       "      <td>1991.458333</td>\n",
       "      <td>Тюменская область</td>\n",
       "      <td>57.143110</td>\n",
       "      <td>65.554573</td>\n",
       "      <td>457.118051</td>\n",
       "      <td>S23731</td>\n",
       "      <td>2020-09-06</td>\n",
       "      <td>10</td>\n",
       "      <td>1</td>\n",
       "    </tr>\n",
       "    <tr>\n",
       "      <th>3</th>\n",
       "      <td>Иркутск</td>\n",
       "      <td>1.0</td>\n",
       "      <td>COL_289354</td>\n",
       "      <td>5</td>\n",
       "      <td>76</td>\n",
       "      <td>139</td>\n",
       "      <td>231</td>\n",
       "      <td>0</td>\n",
       "      <td>0</td>\n",
       "      <td>0</td>\n",
       "      <td>...</td>\n",
       "      <td>1947.073276</td>\n",
       "      <td>1941.657895</td>\n",
       "      <td>Иркутская область</td>\n",
       "      <td>52.281380</td>\n",
       "      <td>104.282975</td>\n",
       "      <td>66.503622</td>\n",
       "      <td>S14207</td>\n",
       "      <td>2020-09-06</td>\n",
       "      <td>100</td>\n",
       "      <td>1</td>\n",
       "    </tr>\n",
       "    <tr>\n",
       "      <th>4</th>\n",
       "      <td>Курск</td>\n",
       "      <td>NaN</td>\n",
       "      <td>COL_289399</td>\n",
       "      <td>8</td>\n",
       "      <td>105</td>\n",
       "      <td>189</td>\n",
       "      <td>279</td>\n",
       "      <td>0</td>\n",
       "      <td>0</td>\n",
       "      <td>2</td>\n",
       "      <td>...</td>\n",
       "      <td>1948.764151</td>\n",
       "      <td>1946.689655</td>\n",
       "      <td>Курская область</td>\n",
       "      <td>51.729706</td>\n",
       "      <td>36.194019</td>\n",
       "      <td>23.864915</td>\n",
       "      <td>S20658</td>\n",
       "      <td>2020-09-06</td>\n",
       "      <td>10</td>\n",
       "      <td>1</td>\n",
       "    </tr>\n",
       "  </tbody>\n",
       "</table>\n",
       "<p>5 rows × 76 columns</p>\n",
       "</div>"
      ],
      "text/plain": [
       "      city floor          id  osm_amenity_points_in_0.001  \\\n",
       "0    Курск   1.0  COL_289284                            7   \n",
       "1   Сургут   1.0  COL_289305                            8   \n",
       "2   Тюмень  -1.0  COL_289318                            3   \n",
       "3  Иркутск   1.0  COL_289354                            5   \n",
       "4    Курск   NaN  COL_289399                            8   \n",
       "\n",
       "   osm_amenity_points_in_0.005  osm_amenity_points_in_0.0075  \\\n",
       "0                           55                            85   \n",
       "1                           70                           112   \n",
       "2                           28                            67   \n",
       "3                           76                           139   \n",
       "4                          105                           189   \n",
       "\n",
       "   osm_amenity_points_in_0.01  osm_building_points_in_0.001  \\\n",
       "0                         117                             0   \n",
       "1                         140                             0   \n",
       "2                         122                             0   \n",
       "3                         231                             0   \n",
       "4                         279                             0   \n",
       "\n",
       "   osm_building_points_in_0.005  osm_building_points_in_0.0075  ...  \\\n",
       "0                             0                              0  ...   \n",
       "1                             0                              0  ...   \n",
       "2                             0                              0  ...   \n",
       "3                             0                              0  ...   \n",
       "4                             0                              2  ...   \n",
       "\n",
       "   reform_mean_year_building_1000  reform_mean_year_building_500  \\\n",
       "0                     1966.471591                    1966.740260   \n",
       "1                     1988.259259                    1989.068182   \n",
       "2                     1985.880282                    1991.458333   \n",
       "3                     1947.073276                    1941.657895   \n",
       "4                     1948.764151                    1946.689655   \n",
       "\n",
       "                region        lat         lng  total_square  street  \\\n",
       "0      Курская область  51.709255   36.147908    156.148996   S6983   \n",
       "1  Ханты-Мансийский АО  61.233240   73.462509    190.737943  S29120   \n",
       "2    Тюменская область  57.143110   65.554573    457.118051  S23731   \n",
       "3    Иркутская область  52.281380  104.282975     66.503622  S14207   \n",
       "4      Курская область  51.729706   36.194019     23.864915  S20658   \n",
       "\n",
       "         date  realty_type  price_type  \n",
       "0  2020-09-06          100           1  \n",
       "1  2020-09-06          110           1  \n",
       "2  2020-09-06           10           1  \n",
       "3  2020-09-06          100           1  \n",
       "4  2020-09-06           10           1  \n",
       "\n",
       "[5 rows x 76 columns]"
      ]
     },
     "execution_count": 2,
     "metadata": {},
     "output_type": "execute_result"
    }
   ],
   "source": [
    "data_root = Path('./data/raw/')\n",
    "FILE = 'test'\n",
    "df = pd.read_csv(data_root / f'{FILE}.csv')\n",
    "df.head(5)"
   ]
  },
  {
   "cell_type": "code",
   "execution_count": 3,
   "id": "computational-lover",
   "metadata": {},
   "outputs": [],
   "source": [
    "from feature_extractors.floor import parse_floor\n",
    "from feature_extractors.new_osm_features import (\n",
    "    min_distance_to_city,\n",
    "    min_distance_to_transport\n",
    ")\n",
    "from feature_extractors.ipoteka_feature import mortage_rate\n",
    "from feature_extractors.stat_feature_processing import is_subway, subway_stations, preprocessing"
   ]
  },
  {
   "cell_type": "code",
   "execution_count": null,
   "id": "physical-situation",
   "metadata": {},
   "outputs": [],
   "source": []
  },
  {
   "cell_type": "code",
   "execution_count": 4,
   "id": "familiar-compound",
   "metadata": {},
   "outputs": [],
   "source": [
    "df = df.assign(is_huge_city=  df.osm_city_nearest_population.apply(lambda n: n > 1.2*1e7),\n",
    "               is_big_city=   df.osm_city_nearest_population.apply(lambda n: n > 0.4*1e7),\n",
    "               is_medium_city=df.osm_city_nearest_population.apply(lambda n: n > 1_000_000),\n",
    "               is_small_city= df.osm_city_nearest_population.apply(lambda n: n > 400_000),\n",
    "               is_micro_city= df.osm_city_nearest_population.apply(lambda n: n > 200_000),\n",
    "               is_nano_city=  df.osm_city_nearest_population.apply(lambda n: n < 100_000))"
   ]
  },
  {
   "cell_type": "code",
   "execution_count": 5,
   "id": "foster-cathedral",
   "metadata": {},
   "outputs": [],
   "source": [
    "df = df.assign(clear_floor=df.floor.apply(parse_floor).fillna(0),\n",
    "               min_dist_to_city=min_distance_to_city(df, 'osm_city_closest_dist', 'osm_transport_stop_closest_dist'),\n",
    "               min_dist_to_transport=min_distance_to_transport(df, 'osm_subway_closest_dist', 'osm_transport_stop_closest_dist'),\n",
    "               has_subway=df.city.apply(is_subway),\n",
    "               n_subways=df.city.apply(subway_stations))"
   ]
  },
  {
   "cell_type": "code",
   "execution_count": 6,
   "id": "gross-solution",
   "metadata": {},
   "outputs": [
    {
     "name": "stderr",
     "output_type": "stream",
     "text": [
      "100%|██████████| 18/18 [00:00<00:00, 553.10it/s]\n"
     ]
    }
   ],
   "source": [
    "# log features\n",
    "from tqdm import tqdm\n",
    "\n",
    "numeric_features = df.dtypes[df.dtypes == 'float64'].index.tolist()\n",
    "for feat in tqdm(numeric_features):\n",
    "    if feat == 'per_square_meter_price':\n",
    "        continue\n",
    "    df.loc[:, feat] = df[feat].fillna(df[feat].median())\n",
    "    df.loc[:, f'log_{feat}'] = np.log1p(df[feat])\n",
    "#     df.loc[:, f'1/{feat}'] = 1 / (df[feat] + 0.0001)"
   ]
  },
  {
   "cell_type": "code",
   "execution_count": 7,
   "id": "romantic-wisdom",
   "metadata": {},
   "outputs": [
    {
     "data": {
      "text/plain": [
       "0"
      ]
     },
     "execution_count": 7,
     "metadata": {},
     "output_type": "execute_result"
    }
   ],
   "source": [
    "# df.loc[:, 'osm_city_nearest_population'] = df.osm_city_nearest_population.fillna(df.osm_city_nearest_population.median())\n",
    "df.osm_city_nearest_population.isna().sum()"
   ]
  },
  {
   "cell_type": "code",
   "execution_count": 8,
   "id": "accompanied-thumb",
   "metadata": {},
   "outputs": [
    {
     "name": "stdout",
     "output_type": "stream",
     "text": [
      "['floor', 'street']\n"
     ]
    }
   ],
   "source": [
    "na_cols = df.columns[df.isna().sum(axis=0) > 0].tolist()\n",
    "print(na_cols)\n",
    "# df = df.drop(na_cols, axis=1)"
   ]
  },
  {
   "cell_type": "code",
   "execution_count": 9,
   "id": "homeless-sarah",
   "metadata": {},
   "outputs": [],
   "source": [
    "df.to_csv(f'data/featured/{FILE}.csv.gz', index=False, compression='gzip')"
   ]
  },
  {
   "cell_type": "code",
   "execution_count": null,
   "id": "sitting-greece",
   "metadata": {},
   "outputs": [],
   "source": []
  }
 ],
 "metadata": {
  "kernelspec": {
   "display_name": "Python 3",
   "language": "python",
   "name": "python3"
  },
  "language_info": {
   "codemirror_mode": {
    "name": "ipython",
    "version": 3
   },
   "file_extension": ".py",
   "mimetype": "text/x-python",
   "name": "python",
   "nbconvert_exporter": "python",
   "pygments_lexer": "ipython3",
   "version": "3.8.2"
  }
 },
 "nbformat": 4,
 "nbformat_minor": 5
}
